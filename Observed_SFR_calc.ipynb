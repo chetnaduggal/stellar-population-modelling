{
 "cells": [
  {
   "cell_type": "code",
   "execution_count": 1,
   "id": "tutorial-phone",
   "metadata": {},
   "outputs": [],
   "source": [
    "import numpy as np\n",
    "import math\n",
    "import pandas as pd"
   ]
  },
  {
   "cell_type": "code",
   "execution_count": 2,
   "id": "binding-edward",
   "metadata": {},
   "outputs": [],
   "source": [
    "c = 3.0e18     # speed of light in Angstrom/s\n",
    "\n",
    "# Luminosity distances from Ned's Cosmo Calc:  H0= 70, omegaM= 0.27, omegaV= 0.73\n",
    "# formulas at-- http://www.astro.ucla.edu/~wright/Distances_details.gif \n",
    "\n",
    "dic = {'1025+390':1940.5, '1037+30':417.2, '1128+455':2217.0, '1201+394':2488.2, \n",
    "                                                '1203+645':2004.1, '1221-423':826.8}  # (in Mpc)\n",
    "\n",
    "#(1 Mpc =  3.08e24 cm)\n",
    "\n",
    "# array to store lum. dist. values in cm\n",
    "d = np.zeros(6, dtype=np.float32)\n",
    "\n",
    "i = 0\n",
    "for source in dic:\n",
    "    d[i] = dic[source] * 3.08e24\n",
    "    i = i+1\n"
   ]
  },
  {
   "cell_type": "code",
   "execution_count": 27,
   "id": "fixed-system",
   "metadata": {},
   "outputs": [],
   "source": [
    "def hst_sfr(df):\n",
    "\n",
    "    hst_mAB = df['hst_uv'].values\n",
    "    hst_Fnu = [ 10**(- (k + 48.6) / 2.5) for k in hst_mAB ]\n",
    "    hst_Lnu = [(4 * math.pi * d[i]**2) * hst_Fnu[i] for i in range (len(d))]\n",
    "    \n",
    "    hst_SFR = [round(1.4e-28 * hst_Lnu[i],2) for i in range (len(d))]\n",
    "    \n",
    "    return hst_SFR"
   ]
  },
  {
   "cell_type": "code",
   "execution_count": 4,
   "id": "suspected-viking",
   "metadata": {},
   "outputs": [],
   "source": [
    "def galex_sfr(df):\n",
    "\n",
    "    galex_mAB = df['nuv'].values\n",
    "    galex_Fnu = [ 10**(- (k + 48.6) / 2.5) for k in galex_mAB ]\n",
    "    galex_Lnu = [(4 * math.pi * d[i]**2) * galex_Fnu[i] for i in range (len(d))]\n",
    "    galex_SFR = [round(1.08e-28 * galex_Lnu[i],2) for i in range (len(d))]\n",
    "    \n",
    "    return galex_SFR"
   ]
  },
  {
   "cell_type": "code",
   "execution_count": 5,
   "id": "42218d91",
   "metadata": {},
   "outputs": [],
   "source": [
    "def infrared_sfr(df):\n",
    "\n",
    "    mVega = data['w4'].values\n",
    "    mAB = mVega + 6.62\n",
    "    w4_Fnu = [ 10**(- (k + 48.6) / 2.5) for k in mAB ]\n",
    "    w4_nu_eff = 1.3456e13  # nu for effective wavelength W4 band\n",
    "    w4_L = [(4 * math.pi * d[i]**2) * w4_nu_eff * w4_Fnu[i] for i in range (len(d))]    \n",
    "                                     # nuFnu -> dimensions of flux (ergs/sec)\n",
    "    L_sun = 3.85e33    #ergs/sec\n",
    "    w4_Ls = [w4_L[i] / L_sun for i in range (len(w4_L))]    # L_w4 in ergs/sec\n",
    "    \n",
    "    \n",
    "    # Star formation relation : Rieke et al. 2009\n",
    "    #        -- given relation for Spitzer/24micron band, but can be used for WISE 22 micron too\n",
    "    \n",
    "    w4_SFR, w4_SFR_2 = np.zeros(6, dtype=np.float32), np.zeros(6, dtype=np.float32)\n",
    "    \n",
    "    for i in range (len(w4_Ls)):\n",
    "        if w4_Ls[i] <= 1.3e10:\n",
    "            w4_SFR[i] = round(7.8e-10 * w4_Ls[i], 2)\n",
    "        else:\n",
    "            w4_SFR[i] = round(7.8e-10 * w4_Ls[i] * (7.76e-11 * w4_Ls[i])**0.048, 2)\n",
    "        \n",
    "    # Wu et al. 2005 relation\n",
    "    for i in range (len(w4_Ls)):\n",
    "        w4_SFR_2[i] = round(6.66e-8 * w4_Ls[i], 2)\n",
    "        \n",
    "    \n",
    "    return w4_L, w4_SFR, w4_SFR_2\n"
   ]
  },
  {
   "cell_type": "code",
   "execution_count": 6,
   "id": "d3537f25",
   "metadata": {},
   "outputs": [],
   "source": [
    "def mixed_sfr(df, L_w4):\n",
    "\n",
    "    mHa = data['halpha'].values\n",
    "    Halpha_Fnu = [ 10**(- (k + 48.6) / 2.5) for k in mHa ]\n",
    "    Ha_nu_eff = c / 6563  # nu for effective wavelength in Angstrom\n",
    "    Ha_L = [(4 * math.pi * d[i]**2) * Ha_nu_eff * Halpha_Fnu[i] for i in range (len(d))] \n",
    "    \n",
    "    Ha_SFR = np.zeros(len(Ha_L), dtype=np.float32)\n",
    "    # Ha star formation relation: Kennicutt et al. 1998 \n",
    "    Ha_SFR = [round(7.9e-42 * Ha_L[i], 2) for i in range (len(Ha_L))]\n",
    "    \n",
    "    \n",
    "    moII = data['oII'].values\n",
    "    oII_Fnu = [ 10**(- (k + 48.6) / 2.5) for k in moII ]\n",
    "    oII_nu_eff = c / 4970 # nu for average effective wavelength in Angstrom\n",
    "    oII_L = [(4 * math.pi * d[i]**2) * oII_nu_eff * oII_Fnu[i] for i in range (len(d))] \n",
    "\n",
    "    oII_SFR = np.zeros(len(Ha_L), dtype=np.float32)\n",
    "    # [OII] star formation relation: Kennicutt et al. 1998 \n",
    "    oII_SFR = [round(1.4e-41 * oII_L[i], 2) for i in range (len(oII_L))]\n",
    "    \n",
    "    \n",
    "    # Kennicutt et al. 2009\n",
    "    SFR_w4_Ha = [round(7.9e-42 * (Ha_L[i] + 0.020*L_w4[i]), 2) for i in range (len(d))]\n",
    "    SFR_w4_OII = [round(8.1e-42 * (oII_L[i] + 0.029*L_w4[i]), 2) for i in range (len(d))]\n",
    "    \n",
    "    \n",
    "    return Ha_SFR, oII_SFR, SFR_w4_Ha, SFR_w4_OII\n",
    "    "
   ]
  },
  {
   "cell_type": "code",
   "execution_count": 28,
   "id": "personalized-revelation",
   "metadata": {},
   "outputs": [
    {
     "name": "stdout",
     "output_type": "stream",
     "text": [
      "    Targets    nuv  hst_uv  halpha    oII    w4\n",
      "0  1025+390  21.28   22.66   25.09  25.43  8.22\n",
      "1   1037+30  19.36   19.85   23.79  24.22  7.34\n",
      "2  1128+455  23.41   22.91   24.52  26.60  8.01\n",
      "3  1201+394  22.46   24.57     NaN  27.66  8.78\n",
      "4  1203+645  23.15   22.74   23.04  26.21  7.62\n",
      "5  1221-423  19.66   19.45   24.98  27.82  6.76\n"
     ]
    }
   ],
   "source": [
    "data = pd.read_csv('gal_corr_sfr_mags.csv', header=[0])\n",
    "print(data)\n",
    "\n",
    "hst_sfr = hst_sfr(data)\n",
    "nuv_sfr = galex_sfr(data)\n",
    "w4band_L, w4_sfr, w4_sfr_2 = infrared_sfr(data)\n",
    "ha_sfr, oII_sfr, sfr_w4_ha, sfr_w4_oII = mixed_sfr(data, w4band_L)\n"
   ]
  },
  {
   "cell_type": "code",
   "execution_count": 29,
   "id": "649ecd67",
   "metadata": {},
   "outputs": [
    {
     "name": "stdout",
     "output_type": "stream",
     "text": [
      "-----  ----  -----  ------  ------  -----\n",
      " 1.97  1.21   2.04    0.56    1.95   6.87\n",
      " 5.41  1.47   0.99    3       1.03   4.37\n",
      "55.69  5.35  90.16   54.61  106.32  38.12\n",
      " 5.42  0.83  11.95  nan      38.18   1.09\n",
      " 9.27  1.31   4.12    1.95    4.82   0.19\n",
      "45.57  5     75.55  nan     112.6   29.06\n",
      "65.06  6.96  96.93   59.73  113.44  41.69\n",
      "-----  ----  -----  ------  ------  -----\n"
     ]
    }
   ],
   "source": [
    "import scipy\n",
    "from tabulate import tabulate\n",
    "\n",
    "table = [hst_sfr, nuv_sfr, w4_sfr, ha_sfr, oII_sfr, sfr_w4_ha, sfr_w4_oII]\n",
    "print(tabulate(table))\n",
    "\n",
    "#rowwise stack"
   ]
  },
  {
   "cell_type": "code",
   "execution_count": 9,
   "id": "exterior-cement",
   "metadata": {},
   "outputs": [],
   "source": [
    "Targets=[]\n",
    "for key in dic:\n",
    "    Targets.append(key)"
   ]
  },
  {
   "cell_type": "code",
   "execution_count": 30,
   "id": "7213062a",
   "metadata": {},
   "outputs": [
    {
     "name": "stdout",
     "output_type": "stream",
     "text": [
      "     Source  hst_uv   nuv          w4  halpha   oII   w4+ha  w4+oII\n",
      "0  1025+390    1.97  5.41   55.689999    5.42  9.27   45.57   65.06\n",
      "1   1037+30    1.21  1.47    5.350000    0.83  1.31    5.00    6.96\n",
      "2  1128+455    2.04  0.99   90.160004   11.95  4.12   75.55   96.93\n",
      "3  1201+394    0.56  3.00   54.610001     NaN  1.95     NaN   59.73\n",
      "4  1203+645    1.95  1.03  106.320000   38.18  4.82  112.60  113.44\n",
      "5  1221-423    6.87  4.37   38.119999    1.09  0.19   29.06   41.69\n"
     ]
    }
   ],
   "source": [
    "sfr_data = {'Source': Targets, 'hst_uv': hst_sfr, 'nuv': nuv_sfr, 'w4': w4_sfr, 'halpha': ha_sfr, 'oII': oII_sfr, \n",
    "            'w4+ha': sfr_w4_ha, 'w4+oII': sfr_w4_oII}\n",
    "            \n",
    "#df_new = pd.DataFrame(sfr_data, index=Targets)\n",
    "\n",
    "\n",
    "#sfr_data = {'Source': Targets, 'SFR$_{HST/UV}$': hst_sfr, 'SFR$_{GALEX/NUV}$': nuv_sfr, 'SFR$_{W4}$ ': w4_sfr, r'SFR$_{H\\alpha}$': ha_sfr, \n",
    "#            'SFR$_{[OII]}$': oII_sfr, r'SFR$_{W4+H\\alpha}$': sfr_w4_ha, 'SFR$_{W4+[OII]}$': sfr_w4_oII}\n",
    "\n",
    "names = ['Source','nuv','w4','halpha','oII','w4+ha','w4+oII']\n",
    "df_new = pd.DataFrame(sfr_data)#, columns=names)\n",
    "\n",
    "print(df_new)"
   ]
  },
  {
   "cell_type": "code",
   "execution_count": 31,
   "id": "fd69a0aa",
   "metadata": {},
   "outputs": [
    {
     "data": {
      "text/html": [
       "<div>\n",
       "<style scoped>\n",
       "    .dataframe tbody tr th:only-of-type {\n",
       "        vertical-align: middle;\n",
       "    }\n",
       "\n",
       "    .dataframe tbody tr th {\n",
       "        vertical-align: top;\n",
       "    }\n",
       "\n",
       "    .dataframe thead th {\n",
       "        text-align: right;\n",
       "    }\n",
       "</style>\n",
       "<table border=\"1\" class=\"dataframe\">\n",
       "  <thead>\n",
       "    <tr style=\"text-align: right;\">\n",
       "      <th></th>\n",
       "      <th>Source</th>\n",
       "      <th>hst_uv</th>\n",
       "      <th>nuv</th>\n",
       "      <th>w4</th>\n",
       "      <th>halpha</th>\n",
       "      <th>oII</th>\n",
       "      <th>w4+ha</th>\n",
       "      <th>w4+oII</th>\n",
       "    </tr>\n",
       "  </thead>\n",
       "  <tbody>\n",
       "    <tr>\n",
       "      <th>0</th>\n",
       "      <td>1025+390</td>\n",
       "      <td>1.97</td>\n",
       "      <td>5.41</td>\n",
       "      <td>55.689999</td>\n",
       "      <td>5.42</td>\n",
       "      <td>9.27</td>\n",
       "      <td>45.57</td>\n",
       "      <td>65.06</td>\n",
       "    </tr>\n",
       "    <tr>\n",
       "      <th>1</th>\n",
       "      <td>1037+30</td>\n",
       "      <td>1.21</td>\n",
       "      <td>1.47</td>\n",
       "      <td>5.350000</td>\n",
       "      <td>0.83</td>\n",
       "      <td>1.31</td>\n",
       "      <td>5.0</td>\n",
       "      <td>6.96</td>\n",
       "    </tr>\n",
       "    <tr>\n",
       "      <th>2</th>\n",
       "      <td>1128+455</td>\n",
       "      <td>2.04</td>\n",
       "      <td>0.99</td>\n",
       "      <td>90.160004</td>\n",
       "      <td>11.95</td>\n",
       "      <td>4.12</td>\n",
       "      <td>75.55</td>\n",
       "      <td>96.93</td>\n",
       "    </tr>\n",
       "    <tr>\n",
       "      <th>3</th>\n",
       "      <td>1201+394</td>\n",
       "      <td>0.56</td>\n",
       "      <td>3.00</td>\n",
       "      <td>54.610001</td>\n",
       "      <td>\\nodata</td>\n",
       "      <td>1.95</td>\n",
       "      <td>\\nodata</td>\n",
       "      <td>59.73</td>\n",
       "    </tr>\n",
       "    <tr>\n",
       "      <th>4</th>\n",
       "      <td>1203+645</td>\n",
       "      <td>1.95</td>\n",
       "      <td>1.03</td>\n",
       "      <td>106.320000</td>\n",
       "      <td>38.18</td>\n",
       "      <td>4.82</td>\n",
       "      <td>112.6</td>\n",
       "      <td>113.44</td>\n",
       "    </tr>\n",
       "    <tr>\n",
       "      <th>5</th>\n",
       "      <td>1221-423</td>\n",
       "      <td>6.87</td>\n",
       "      <td>4.37</td>\n",
       "      <td>38.119999</td>\n",
       "      <td>1.09</td>\n",
       "      <td>0.19</td>\n",
       "      <td>29.06</td>\n",
       "      <td>41.69</td>\n",
       "    </tr>\n",
       "  </tbody>\n",
       "</table>\n",
       "</div>"
      ],
      "text/plain": [
       "     Source  hst_uv   nuv          w4   halpha   oII    w4+ha  w4+oII\n",
       "0  1025+390    1.97  5.41   55.689999     5.42  9.27    45.57   65.06\n",
       "1   1037+30    1.21  1.47    5.350000     0.83  1.31      5.0    6.96\n",
       "2  1128+455    2.04  0.99   90.160004    11.95  4.12    75.55   96.93\n",
       "3  1201+394    0.56  3.00   54.610001  \\nodata  1.95  \\nodata   59.73\n",
       "4  1203+645    1.95  1.03  106.320000    38.18  4.82    112.6  113.44\n",
       "5  1221-423    6.87  4.37   38.119999     1.09  0.19    29.06   41.69"
      ]
     },
     "execution_count": 31,
     "metadata": {},
     "output_type": "execute_result"
    }
   ],
   "source": [
    "df_new.replace(np.nan, \"\\nodata\")\n",
    "#df['column name'] = df['column name'].replace(['old value'], 'new value')"
   ]
  },
  {
   "cell_type": "code",
   "execution_count": 32,
   "id": "352d883d",
   "metadata": {},
   "outputs": [
    {
     "name": "stdout",
     "output_type": "stream",
     "text": [
      "\\begin{tabular}{cccccccc}\n",
      "\\hline\n",
      "  Source  &  hst\\_uv  &  nuv  &   w4   &  halpha  &  oII  &  w4+ha  &  w4+oII  \\\\\n",
      "\\hline\n",
      " 1025+390 &   1.97   & 5.41  & 55.69  &   5.42   & 9.27  &  45.57  &  65.06   \\\\\n",
      " 1037+30  &   1.21   & 1.47  &  5.35  &   0.83   & 1.31  &   5.0   &   6.96   \\\\\n",
      " 1128+455 &   2.04   & 0.99  & 90.16  &  11.95   & 4.12  &  75.55  &  96.93   \\\\\n",
      " 1201+394 &   0.56   &   3   & 54.61  & \\textbackslash{}nodata  & 1.95  & \\textbackslash{}nodata &  59.73   \\\\\n",
      " 1203+645 &   1.95   & 1.03  & 106.32 &  38.18   & 4.82  &  112.6  &  113.44  \\\\\n",
      " 1221-423 &   6.87   & 4.37  & 38.12  &   1.09   & 0.19  &  29.06  &  41.69   \\\\\n",
      "\\hline\n",
      "\\end{tabular}\n"
     ]
    }
   ],
   "source": [
    "print(tabulate(df_new.replace(np.nan, \"\\\\nodata\"), tablefmt=\"latex\", headers=\"keys\", \n",
    "               showindex=False, numalign=\"center\", stralign=\"center\"))"
   ]
  },
  {
   "cell_type": "code",
   "execution_count": null,
   "id": "a9454132",
   "metadata": {},
   "outputs": [],
   "source": []
  }
 ],
 "metadata": {
  "kernelspec": {
   "display_name": "Python 3 (ipykernel)",
   "language": "python",
   "name": "python3"
  },
  "language_info": {
   "codemirror_mode": {
    "name": "ipython",
    "version": 3
   },
   "file_extension": ".py",
   "mimetype": "text/x-python",
   "name": "python",
   "nbconvert_exporter": "python",
   "pygments_lexer": "ipython3",
   "version": "3.7.10"
  }
 },
 "nbformat": 4,
 "nbformat_minor": 5
}
